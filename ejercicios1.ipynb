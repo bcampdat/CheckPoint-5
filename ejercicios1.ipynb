{
 "cells": [
  {
   "cell_type": "markdown",
   "metadata": {},
   "source": [
    "                                                EJERCICIOS PRACTICOS  "
   ]
  },
  {
   "cell_type": "markdown",
   "metadata": {},
   "source": [
    "Ejercicio 1: \n",
    "    Cree un bucle For de Python."
   ]
  },
  {
   "cell_type": "code",
   "execution_count": 1,
   "metadata": {},
   "outputs": [
    {
     "name": "stdout",
     "output_type": "stream",
     "text": [
      "rojo\n",
      "azul\n",
      "amarillo\n",
      "verde\n"
     ]
    }
   ],
   "source": [
    "colores = [\"rojo\", \"azul\", \"amarillo\", \"verde\"]\n",
    "\n",
    "for color in colores:\n",
    "    print(color)"
   ]
  },
  {
   "cell_type": "markdown",
   "metadata": {},
   "source": [
    "Ejercicio 2: \n",
    "    Cree una función de Python llamada suma que tome 3 argumentos y devuelva la suma de los 3."
   ]
  },
  {
   "cell_type": "code",
   "execution_count": 2,
   "metadata": {},
   "outputs": [
    {
     "name": "stdout",
     "output_type": "stream",
     "text": [
      "6\n"
     ]
    }
   ],
   "source": [
    "def suma (a, b, c):\n",
    "    suma = a + b + c\n",
    "    return suma\n",
    "print (suma(1, 2, 3))"
   ]
  },
  {
   "cell_type": "markdown",
   "metadata": {},
   "source": [
    "Ejercicio 3: \n",
    "    Cree una función lambda con la misma funcionalidad que la función de suma que acaba de crear."
   ]
  },
  {
   "cell_type": "code",
   "execution_count": 3,
   "metadata": {},
   "outputs": [
    {
     "name": "stdout",
     "output_type": "stream",
     "text": [
      "6\n"
     ]
    }
   ],
   "source": [
    "suma = lambda a, b, c: a + b + c\n",
    "print (suma(1, 2, 3))"
   ]
  },
  {
   "cell_type": "markdown",
   "metadata": {},
   "source": [
    "Ejercicio 4: \n",
    "    Utilizando la siguiente lista y variable, determine si el valor de la variable coincide o no con un valor de la lista. \n",
    "        *Sugerencia, si es necesario, utilice un bucle for in y el operador in.\n",
    "\n",
    "                    nombre = 'Enrique'\n",
    "\n",
    "                    lista_nombre = 'Jessica', 'Paul', 'George', 'Henry', 'Adán'"
   ]
  },
  {
   "cell_type": "code",
   "execution_count": 4,
   "metadata": {},
   "outputs": [
    {
     "name": "stdout",
     "output_type": "stream",
     "text": [
      "El nombre Enrique no coincide con ningún valor de la lista.\n"
     ]
    }
   ],
   "source": [
    "nombre = \"Enrique\"\n",
    "\n",
    "lista_nombre = [\"Jessica\", \"Paul\", \"George\", \"Henry\", \"Adán\"]\n",
    "\n",
    "for elemento in lista_nombre:\n",
    "    if elemento.lower() == nombre.lower():\n",
    "        print(f'El nombre {nombre.capitalize()} coincide con un valor de la lista.')\n",
    "        break\n",
    "else:\n",
    "        print(f'El nombre {nombre.capitalize()} no coincide con ningún valor de la lista.') "
   ]
  }
 ],
 "metadata": {
  "kernelspec": {
   "display_name": "Python 3",
   "language": "python",
   "name": "python3"
  },
  "language_info": {
   "codemirror_mode": {
    "name": "ipython",
    "version": 3
   },
   "file_extension": ".py",
   "mimetype": "text/x-python",
   "name": "python",
   "nbconvert_exporter": "python",
   "pygments_lexer": "ipython3",
   "version": "3.12.2"
  }
 },
 "nbformat": 4,
 "nbformat_minor": 2
}
