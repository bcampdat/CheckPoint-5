{
 "cells": [
  {
   "cell_type": "markdown",
   "metadata": {},
   "source": [
    "                                Preguntas Teoricas"
   ]
  },
  {
   "cell_type": "markdown",
   "metadata": {},
   "source": [
    "Crear una documentación....\n",
    "\n",
    "Sobre las preguntas de a continuación, para las personas que están iniciando en el mundo del desarrollo\n",
    "y estas puedan comprender y aprender con tu material.\n",
    "lo más detallado posible:\n",
    "Colocar ejemplos, para que se utiliza, sintaxis, como se utiliza, etc...\n",
    "Recuerda que eres el responsable de crear la documentación que utilizarán los nuevos compañeros de tu equipo de programación. También toma en cuenta en hacerlo con las herramientas o software correcto, \n",
    "para la creación de este tipo de material"
   ]
  },
  {
   "cell_type": "markdown",
   "metadata": {},
   "source": [
    "1. ¿Qué es un condicional?\n",
    "\n",
    "    [Teoría y ejercicios :](./EjerciciosTeoricos/condicionales&bucles.ipynb) "
   ]
  },
  {
   "cell_type": "markdown",
   "metadata": {},
   "source": [
    "2. ¿Cuáles son los diferentes tipos de bucles en Python? ¿Por qué son útiles?     \n",
    "\n",
    "    [Teoría y ejercicios :](./EjerciciosTeoricos/condicionales&bucles.ipynb)   "
   ]
  },
  {
   "cell_type": "markdown",
   "metadata": {},
   "source": [
    "3. ¿Qué es una lista por comprensión en Python?\n",
    "\n",
    "    [Teoría y ejercicios :](./EjerciciosTeoricos/compresion.ipynb)       \n",
    "\n",
    "       "
   ]
  },
  {
   "cell_type": "markdown",
   "metadata": {},
   "source": [
    "4. ¿Qué es un argumento en Python?\n",
    "\n",
    "    [Teoría y ejercicios :](./EjerciciosTeoricos/args&lambda.ipynb)         "
   ]
  },
  {
   "cell_type": "markdown",
   "metadata": {},
   "source": [
    "5. ¿Qué es una función Lambda en Python?  \n",
    "\n",
    "    [Teoría y ejercicios :](./EjerciciosTeoricos/args&lambda.ipynb)      "
   ]
  },
  {
   "cell_type": "markdown",
   "metadata": {},
   "source": [
    "6. ¿Qué es un paquete pip?\n",
    "\n",
    "    [Teoría y ejercicios :](./EjerciciosTeoricos/pip.ipynb)      "
   ]
  },
  {
   "cell_type": "markdown",
   "metadata": {},
   "source": [
    "* ***Curso completo*** : \n",
    "[Curso Brais Moure](https://youtu.be/Kp4Mvapo5kc?t=2)\n",
    "\n",
    "  [Curso Commit That Line!: ](https://www.youtube.com/watch?v=As7NN1brhR0&list=PLF8hyxwQo59jdYDjY4dpseCdsANSakqT3)\n",
    "\n",
    "* ***Documentación oficial:***    [Python](https://docs.python.org/3/tutorial/index.html)"
   ]
  }
 ],
 "metadata": {
  "kernelspec": {
   "display_name": "Python 3",
   "language": "python",
   "name": "python3"
  },
  "language_info": {
   "codemirror_mode": {
    "name": "ipython",
    "version": 3
   },
   "file_extension": ".py",
   "mimetype": "text/x-python",
   "name": "python",
   "nbconvert_exporter": "python",
   "pygments_lexer": "ipython3",
   "version": "3.12.2"
  }
 },
 "nbformat": 4,
 "nbformat_minor": 2
}
