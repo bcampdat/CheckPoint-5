{
 "cells": [
  {
   "cell_type": "markdown",
   "metadata": {},
   "source": [
    "                                Preguntas Teoricas"
   ]
  },
  {
   "cell_type": "markdown",
   "metadata": {},
   "source": [
    "## ***4. ¿Qué es un argumento en Python?***        "
   ]
  },
  {
   "cell_type": "markdown",
   "metadata": {},
   "source": [
    "En programación, un argumento se refiere a un valor que se pasa a una función, método o programa como parte de su ejecución. Los argumentos se utilizan para proporcionar datos de entrada a una función y permiten que la función realice operaciones o cálculos en base a esos datos.\n",
    "\n",
    "En la definición de una función los valores que se reciben se denominan parámetros, pero durante la llamada los valores que se envían se denominan argumentos.\n",
    "\n",
    "[ver video ▶](https://www.youtube.com/watch?v=h4Lt4fZoU_g)\n",
    "\n",
    "Hay varios tipos de argumentos en Python:\n",
    "\n",
    "**Argumentos posicionales:** Son argumentos que se pasan a una función en el orden en que se definen. El valor del 1º argumento se asigna al 1º parámetro de la función, el 2º argumento al 2º parámetro y así sucesivamente.\n",
    "\n",
    "**Argumentos con palabras clave (keyword arguments):** Son argumentos precedidos por un nombre de parámetro y un signo igual (=) al llamar a una función. Esto permite pasar los argumentos en cualquier orden, siempre que se especifique el nombre del parámetro al que se le está pasando el valor.\n",
    "\n",
    "\n",
    "**Argumentos predeterminados (default arguments):** Son argumentos para los cuales se proporciona un valor predeterminado en la definición de la función. Si el argumento no se pasa explícitamente durante la llamada a la función, se utilizará el valor predeterminado.\n",
    "\n",
    "[ver video ▶](https://www.youtube.com/watch?v=2Y47a3oPtQU&t=13s)\n",
    "\n",
    "\n",
    "**Argumentos variables (*args y kwargs):** Permiten que una función acepte un número variable de argumentos.\n",
    "\n",
    "     *args se utiliza para pasar una lista de argumentos posicionales arbitrarios-\n",
    "\n",
    "[ver video ▶](https://www.youtube.com/watch?v=7a3d0Du3OHc)\n",
    "\n",
    "     **kwargs se utiliza para pasar un diccionario de argumentos con palabras clave arbitrarios.\n",
    "\n",
    "[ver video ▶](https://www.youtube.com/watch?v=49eS__KMlpo&t=39s)"
   ]
  },
  {
   "cell_type": "markdown",
   "metadata": {},
   "source": [
    "SINTAXIS\n",
    "\n",
    "```\n",
    "def my_function(parametro1, parametro2, parametro3): \n",
    "             # Definición de la función con tres parámetros\n",
    "    print(parametro1) \n",
    "             # Imprime el primer parámetro\n",
    "    \n",
    "my_function(\"argumento1\", \"argumento2\", \"argumento3\")  \n",
    "            # Llamada a la función con tres argumentos\n",
    "```\n",
    "\n",
    "Como has observado tanto parametros como argumentos necesitan de una Funcion \n",
    "\n",
    "[ver video ▶](https://www.youtube.com/watch?v=hLRoDs4wNCU&t=20s)"
   ]
  },
  {
   "cell_type": "markdown",
   "metadata": {},
   "source": [
    "Imaginemos que queremos saludar a nuestro usuario ..."
   ]
  },
  {
   "cell_type": "code",
   "execution_count": null,
   "metadata": {},
   "outputs": [],
   "source": [
    "def saludar (nombre):  # Definición de la función greet con un parámetro llamado nombre\n",
    "    print(\"Hola,\", nombre)  # Imprime un saludo utilizando el valor del parámetro nombre\n",
    "\n",
    "# Llamada a la función saludar con un argumento \"Juan\"\n",
    "saludar (\"Juan\")  \n",
    "\n",
    "# Llamada a la función saludar con un argumento \"María\"\n",
    "saludar (\"María\")  \n"
   ]
  },
  {
   "cell_type": "markdown",
   "metadata": {},
   "source": [
    "* [Teoría y ejercicios :](https://www.w3schools.com/python/python_functions.asp)\n"
   ]
  },
  {
   "cell_type": "markdown",
   "metadata": {},
   "source": [
    "👍 [EJERCICIOS PARA PRACTICAR :](../Practica/ejercicios_argumentos.ipynb)"
   ]
  },
  {
   "cell_type": "markdown",
   "metadata": {},
   "source": [
    "## ***5. ¿Qué es una función Lambda en Python?***        "
   ]
  },
  {
   "cell_type": "markdown",
   "metadata": {},
   "source": [
    "Son funciones de un solo uso o de uso puntual\n",
    "\n",
    "En Python, una función Lambda se refiere a una pequeña función anónima. \n",
    "\n",
    "Al contrario que una función normal, no la definimos con la palabra clave estándar def \n",
    "En su lugar, las funciones Lambda se definen como una línea que ejecuta una sola expresión.\n",
    "Este tipo de funciones pueden tomar cualquier número de argumentos, pero solo pueden tener una expresión.\n",
    "\n",
    "[ver video ▶](https://www.youtube.com/watch?v=2xPtNGIIzIM)"
   ]
  },
  {
   "cell_type": "markdown",
   "metadata": {},
   "source": [
    "SINTAXIS:\n",
    "\n",
    "```\n",
    "   nombre_variable = lambda  argumentos: expresión\n",
    "```\n",
    "\n",
    "***nombre_variable*** = al nombre que designaremos para guardar los datos obtenidos con la función lambda\n",
    "\n",
    "***argumentos:*** son los parametros de nuestra funcion\n",
    "\n",
    "***expresion*** = a la operacion que habrá de realizar la funcion\n",
    "\n"
   ]
  },
  {
   "cell_type": "markdown",
   "metadata": {},
   "source": [
    "ejemplo\n",
    "\n",
    "Supongamos que necesitamos una función que multiplique un número por dos. \n",
    "\n",
    "                multiplo_2 = lambda x: x * 2\n",
    "\n",
    "multiplo_2 = al nombre de nuestra variable\n",
    "\n",
    "x:  será nuestro argumento\n",
    "\n",
    "x * 2 = expresion\n",
    "\n",
    "uso \n",
    "\n",
    "result = multiply_by_two(5)\n",
    "print(result) "
   ]
  },
  {
   "cell_type": "code",
   "execution_count": 1,
   "metadata": {},
   "outputs": [
    {
     "name": "stdout",
     "output_type": "stream",
     "text": [
      "10\n"
     ]
    }
   ],
   "source": [
    "multiplo_2 = lambda x: x * 2\n",
    "\n",
    "total = multiplo_2(5)\n",
    "print(total) "
   ]
  },
  {
   "cell_type": "markdown",
   "metadata": {},
   "source": [
    "Si usaramos el metodo tradicional seria ...  como ves  tenemos el mismo resultado "
   ]
  },
  {
   "cell_type": "code",
   "execution_count": 2,
   "metadata": {},
   "outputs": [
    {
     "name": "stdout",
     "output_type": "stream",
     "text": [
      "10\n"
     ]
    }
   ],
   "source": [
    "def multiplo_2(x):\n",
    "    return x * 2\n",
    "\n",
    "total = multiplo_2(5)\n",
    "print(total)"
   ]
  },
  {
   "cell_type": "markdown",
   "metadata": {},
   "source": [
    "* [Teoría y ejercicios :](https://www.w3schools.com/python/python_lambda.asp)"
   ]
  },
  {
   "cell_type": "markdown",
   "metadata": {},
   "source": [
    "👍 [EJERCICIOS PARA PRACTICAR :](../Practica/ejercicios_lambda.ipynb)"
   ]
  },
  {
   "cell_type": "markdown",
   "metadata": {},
   "source": [
    "* ***Curso completo*** : \n",
    "[Curso Brais Moure](https://youtu.be/Kp4Mvapo5kc)\n",
    "\n",
    "* ***Documentación oficial:***    [Python](https://docs.python.org/3/tutorial/index.html)"
   ]
  }
 ],
 "metadata": {
  "kernelspec": {
   "display_name": "Python 3",
   "language": "python",
   "name": "python3"
  },
  "language_info": {
   "codemirror_mode": {
    "name": "ipython",
    "version": 3
   },
   "file_extension": ".py",
   "mimetype": "text/x-python",
   "name": "python",
   "nbconvert_exporter": "python",
   "pygments_lexer": "ipython3",
   "version": "3.12.2"
  }
 },
 "nbformat": 4,
 "nbformat_minor": 2
}
