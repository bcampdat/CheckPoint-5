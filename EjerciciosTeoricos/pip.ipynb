{
 "cells": [
  {
   "cell_type": "markdown",
   "metadata": {},
   "source": [
    "                                Preguntas Teoricas"
   ]
  },
  {
   "cell_type": "markdown",
   "metadata": {},
   "source": [
    "## ***6. ¿Qué es un paquete pip?***        "
   ]
  },
  {
   "cell_type": "markdown",
   "metadata": {},
   "source": [
    "Los paquetes de software son conjuntos de módulos y bibliotecas que pueden ser reutilizados en diferentes proyectos. Los paquetes pueden proporcionar funcionalidades que van desde operaciones matemáticas hasta acceso a bases de datos y análisis de datos, entre otros.\n",
    "\n",
    "La ventaja de usar un gestor de paquetes como pip es que simplifica el proceso de instalación y actualización de paquetes, así como la gestión de dependencias entre ellos. Además, pip permite a los desarrolladores compartir sus propios paquetes con la comunidad y descargar paquetes creados por otros desarrolladores para usarlos en sus proyectos. \n",
    "\n",
    "[ver video ▶](https://www.youtube.com/watch?v=4N6wONkOZFM) [enlace script de descarga](https://bootstrap.pypa.io/get-pip.py)\n",
    "\n",
    "Características\n",
    "Algunas características clave de pip incluyen:\n",
    "\n",
    "***Instalación***: pip facilita la instalación de paquetes de software. Puedes buscar paquetes en el Índice de Paquetes de Python (PyPI) y luego instalarlos con un simple comando. \n",
    "[PyPi](https://pypi.org/search/?q=paquetes+pip)\n",
    "\n",
    "Listado de paquetes instalados: Puedes usar pip para obtener una lista de todos los paquetes que tienes instalados en tu sistema.\n",
    "\n",
    "Instalación de paquetes desde diferentes fuentes: Además de PyPI, pip te permite instalar paquetes desde otras fuentes, como repositorios Git o archivos locales. Haciendo de esta herramienta indispensable."
   ]
  },
  {
   "cell_type": "markdown",
   "metadata": {},
   "source": [
    "COMANDOS\n",
    "\n",
    "A continuación se muestran algunos ejemplos de cómo puedes usar pip:\n",
    "\n",
    "* Instalar un paquete: pip install package_name \n",
    "* Actualizar un paquete: pip install –upgrade package_name \n",
    "* Desinstalar un paquete: pip uninstall package_name \n",
    "* Listar paquetes instalados: pip list\n"
   ]
  },
  {
   "cell_type": "markdown",
   "metadata": {},
   "source": [
    "***Los + comunes son:***\n",
    "\n",
    "![TOP TEN](pip.jpg)"
   ]
  },
  {
   "cell_type": "markdown",
   "metadata": {},
   "source": [
    "***NumPy*** es un paquete fundamental para Ciencia de Datos en Python. Proporciona soporte para matrices y arreglos multi-dimensionales, junto con una colección de funciones matemáticas para más operar eficientemente\"\n",
    "\n",
    "[Numpy ✏](https://pypi.org/search/?q=numpy&o=)"
   ]
  },
  {
   "cell_type": "code",
   "execution_count": 1,
   "metadata": {},
   "outputs": [],
   "source": [
    "import numpy as np  # se suele usar el apodo np "
   ]
  },
  {
   "cell_type": "markdown",
   "metadata": {},
   "source": [
    "***Pandas*** \"es una potente biblioteca de manipulación y análisis de datos. Ofrece estructuras de datos como DataFrame y Series, que simplifican el trabajo con datos estructurados como archivos CSV, hojas de cálculo de Excel y bases de datos.\"\n",
    "\n",
    "[pandas ✏](https://pypi.org/project/Pandas3/)"
   ]
  },
  {
   "cell_type": "code",
   "execution_count": null,
   "metadata": {},
   "outputs": [],
   "source": [
    "import pandas as pd"
   ]
  },
  {
   "cell_type": "markdown",
   "metadata": {},
   "source": [
    "***Requests*** \"Es una biblioteca HTTP simple pero poderosa para realizar solicitudes HTTP en Python. Ofrece una API elegante y fácil de usar para enviar solicitudes HTTP y manejar respuestas.\"\n",
    "\n",
    "[requests ✏](https://pypi.org/project/requests/)"
   ]
  },
  {
   "cell_type": "code",
   "execution_count": null,
   "metadata": {},
   "outputs": [],
   "source": [
    "import requests"
   ]
  },
  {
   "cell_type": "markdown",
   "metadata": {},
   "source": [
    "*  *Descubre Más*   [ver video ▶](https://www.youtube.com/watch?v=hWbD_6xhYe0)"
   ]
  },
  {
   "cell_type": "markdown",
   "metadata": {},
   "source": [
    "* [Teoría y ejercicios :](https://www.w3schools.com/python/python_modules.asp)"
   ]
  },
  {
   "cell_type": "markdown",
   "metadata": {},
   "source": [
    "👍 [EJERCICIOS PARA PRACTICAR :](../Practica/ejercicios_pip.ipynb)"
   ]
  },
  {
   "cell_type": "markdown",
   "metadata": {},
   "source": [
    "* ***Curso completo*** : \n",
    "[Curso Brais Moure](https://youtu.be/Kp4Mvapo5kc)\n",
    "\n",
    "* ***Documentación oficial:***    [Python](https://docs.python.org/3/tutorial/index.html)"
   ]
  }
 ],
 "metadata": {
  "kernelspec": {
   "display_name": "Python 3",
   "language": "python",
   "name": "python3"
  },
  "language_info": {
   "codemirror_mode": {
    "name": "ipython",
    "version": 3
   },
   "file_extension": ".py",
   "mimetype": "text/x-python",
   "name": "python",
   "nbconvert_exporter": "python",
   "pygments_lexer": "ipython3",
   "version": "3.12.2"
  }
 },
 "nbformat": 4,
 "nbformat_minor": 2
}
