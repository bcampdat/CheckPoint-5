{
 "cells": [
  {
   "cell_type": "markdown",
   "metadata": {},
   "source": [
    "                                Preguntas Teoricas"
   ]
  },
  {
   "cell_type": "markdown",
   "metadata": {},
   "source": [
    "## ***3. ¿Qué es una lista por comprensión en Python?***        "
   ]
  },
  {
   "cell_type": "markdown",
   "metadata": {},
   "source": [
    "Las compresiones de listas son una herramienta muy poderosa, que crea una lista basada en otra, en una única linea legible.\n",
    "En las listas se utilizan corchetes [] y permiten iterar sobre una secuencia (como una lista o una cadena) y aplicar una expresión a cada elemento para producir una nueva lista. \n",
    "\n",
    "[ver video ▶](https://www.youtube.com/watch?v=a3eE5kslhek)\n",
    "\n",
    "Ejemplo:\n",
    "\n",
    "Tenemos una lista de numeros y queremos hacer otra con **sólo** los numeros pares.\n",
    "\n",
    "```\n",
    "numeros = [1, 2, 34, 86, 4, 5, 99, 890, 45] # lista de num\n",
    "\n",
    "pares = [] # lista de pares\n",
    "```"
   ]
  },
  {
   "cell_type": "code",
   "execution_count": null,
   "metadata": {},
   "outputs": [],
   "source": [
    "numeros = [1, 2, 34, 86, 4, 5, 99, 890, 45] # nuestra lista de num\n",
    "\n",
    "pares = [] # lista de pares\n",
    "\n",
    "# Para ello usamos un bucle for..\n",
    "\n",
    "for num in numeros:\n",
    "    if num % 2 == 0:\n",
    "        pares.append(num)\n",
    "print(pares)\n",
    "\n",
    "# Por el metodo list comphensions la hariamos de una forma mas sencilla y mas legible\n",
    "\n",
    "\n",
    "pares = [num for num in numeros if num % 2 == 0] # lista numeros pares\n",
    "print(pares)\n"
   ]
  },
  {
   "cell_type": "markdown",
   "metadata": {},
   "source": [
    "SINTAXIS\n",
    "\n",
    "                nombre_lista = [ expresion   for item in iterable    if condicion]\n",
    "\n",
    "**expresion** = Es la expresión que se evalúa y agrega a la lista resultante.\n",
    "\n",
    "**for item in iterable** = nuestro bucle ( secuencia sobre la que itera/ busca)\n",
    "\n",
    "**if condicion** =  (opcional) que filtra los elementos a incluir en nuestra lista resultante"
   ]
  },
  {
   "cell_type": "markdown",
   "metadata": {},
   "source": [
    "Según nuestro ejemplo: \n",
    "* numeros = [ lista original ]\n",
    "* pares = [ la lista resultante ]\n",
    "\n",
    "pares = [ **num** (*expresion*) **for num in numeros** (*nuestro bucle*) **if num % 2 == 0** (*nuestra condicion*) ]"
   ]
  },
  {
   "cell_type": "markdown",
   "metadata": {},
   "source": [
    "Como puedes ver es una tecnica muy necesaria para obtener un codigo conciso limpo y legible (DRY)\n",
    "\n",
    ">**D R Y**\n",
    ">\n",
    "> \"Don't repeat yourself\"  en programación es un ***principio de diseño de software*** que promueve la reducción de la duplicación de código."
   ]
  },
  {
   "cell_type": "markdown",
   "metadata": {},
   "source": [
    " [ver video ▶](https://www.youtube.com/watch?v=l8mWvDUwOt4&t=1s)\n"
   ]
  },
  {
   "cell_type": "markdown",
   "metadata": {},
   "source": [
    "* [Teoría y ejercicios :](https://www.w3schools.com/python/python_lists_comprehension.asp)\n"
   ]
  },
  {
   "cell_type": "markdown",
   "metadata": {},
   "source": [
    "👍 [EJERCICIOS PARA PRACTICAR :](../Practica/ejercicios_compresion.ipynb)"
   ]
  },
  {
   "cell_type": "markdown",
   "metadata": {},
   "source": [
    "* ***Curso completo*** : \n",
    "[Curso Brais Moure](https://youtu.be/Kp4Mvapo5kc)\n",
    "\n",
    "* ***Documentación oficial:***    [Python](https://docs.python.org/3/tutorial/index.html)"
   ]
  }
 ],
 "metadata": {
  "kernelspec": {
   "display_name": "Python 3",
   "language": "python",
   "name": "python3"
  },
  "language_info": {
   "codemirror_mode": {
    "name": "ipython",
    "version": 3
   },
   "file_extension": ".py",
   "mimetype": "text/x-python",
   "name": "python",
   "nbconvert_exporter": "python",
   "pygments_lexer": "ipython3",
   "version": "3.12.2"
  }
 },
 "nbformat": 4,
 "nbformat_minor": 2
}
