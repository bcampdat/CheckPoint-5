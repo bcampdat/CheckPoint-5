{
 "cells": [
  {
   "cell_type": "markdown",
   "metadata": {},
   "source": [
    "## Bucles"
   ]
  },
  {
   "cell_type": "markdown",
   "metadata": {},
   "source": [
    "* [Teoría y ejercicios for :](https://www.w3schools.com/python/python_for_loops.asp)\n",
    "* [Teoría y ejercicios while :](https://www.w3schools.com/python/python_while_loops.asp)\n"
   ]
  },
  {
   "cell_type": "markdown",
   "metadata": {},
   "source": [
    "                                                                Ejercios para practicar"
   ]
  },
  {
   "cell_type": "markdown",
   "metadata": {},
   "source": [
    "Ejercicio 1:\n",
    "Imprimir los números del 1 al 10."
   ]
  },
  {
   "cell_type": "code",
   "execution_count": 1,
   "metadata": {},
   "outputs": [],
   "source": [
    "# insterta tu codigo"
   ]
  },
  {
   "cell_type": "markdown",
   "metadata": {},
   "source": [
    "Ejercicio 2:\n",
    "Imprime un árbol de navidad formado con * haciendo uso del while y de la multiplicación de un entero por una cadena, cuyo resultado en Python es replicar la cadena."
   ]
  },
  {
   "cell_type": "code",
   "execution_count": 2,
   "metadata": {},
   "outputs": [],
   "source": [
    "\n",
    "#      *     \n",
    "#     ***    \n",
    "#    *****   \n",
    "#   *******  \n",
    "#  *********\n",
    "# ***********\n",
    "\n",
    "# insterta tu codigo\n"
   ]
  },
  {
   "cell_type": "markdown",
   "metadata": {},
   "source": [
    "Ejercicio 3:\n",
    "Hacer un contador con cuenta regresiva de 10 hasta 0 y que al final muestre un mensaje de “Fuego!!”"
   ]
  },
  {
   "cell_type": "code",
   "execution_count": 3,
   "metadata": {},
   "outputs": [],
   "source": [
    "import time\n",
    "contador = 10  \n",
    "    \n",
    "# insterta tu codigo  \n",
    "      \n",
    "    # contador descendente\n",
    "    # time.sleep(1)  # Espera 1 segundo\n",
    "\n",
    "# print (\"Fuego\")"
   ]
  },
  {
   "cell_type": "markdown",
   "metadata": {},
   "source": [
    "Ejercio 4:\n",
    "Tenemos la pantalla del móvil bloqueada. \n",
    "Partiendo de un PIN_SECRETO, intentaremos desbloquear la pantalla.\n",
    "Tenemos hasta 3 intentos. \n",
    "Simula el proceso. En caso de acceder, lanza al usuario 'login correcto'. Sino, 'llamando al policía'.\n"
   ]
  },
  {
   "cell_type": "code",
   "execution_count": 4,
   "metadata": {},
   "outputs": [],
   "source": [
    "# PIN_SECRETO = \"1234\"\n",
    "# intentos_maximos = 3\n",
    "\n",
    "\n",
    "        # print(\"¡Login correcto!\")\n",
    "        # break\n",
    "   \n",
    "            # print(\"¡Llamando a la policía!\")\n",
    "\n"
   ]
  },
  {
   "cell_type": "markdown",
   "metadata": {},
   "source": [
    "Ejercicio 5:\n",
    "* Reto ✔ \n",
    "\n",
    "Crea el Juego del Ahorcado con una palabra de 5 letras a tu eleccion \n",
    "\n",
    " ¡¡ Aceptas el reto !! 💪"
   ]
  },
  {
   "cell_type": "code",
   "execution_count": 5,
   "metadata": {},
   "outputs": [],
   "source": [
    "palabra = \"Python\".upper()\n",
    "longitud_palabra = len(palabra)\n",
    "letras_acertadas = ['_'] * longitud_palabra\n",
    "intentos_maximos = 6\n",
    "intentos_realizados = 0\n",
    "\n",
    "# insterta tu codigo"
   ]
  },
  {
   "cell_type": "markdown",
   "metadata": {},
   "source": [
    "▶   [seinoiculoS :](../Soluciones/soluciones_cond&bucle.py)"
   ]
  }
 ],
 "metadata": {
  "kernelspec": {
   "display_name": "Python 3",
   "language": "python",
   "name": "python3"
  },
  "language_info": {
   "codemirror_mode": {
    "name": "ipython",
    "version": 3
   },
   "file_extension": ".py",
   "mimetype": "text/x-python",
   "name": "python",
   "nbconvert_exporter": "python",
   "pygments_lexer": "ipython3",
   "version": "3.12.2"
  }
 },
 "nbformat": 4,
 "nbformat_minor": 2
}
