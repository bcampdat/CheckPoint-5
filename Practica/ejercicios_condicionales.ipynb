{
 "cells": [
  {
   "cell_type": "markdown",
   "metadata": {},
   "source": [
    "## Condicionales"
   ]
  },
  {
   "cell_type": "markdown",
   "metadata": {},
   "source": [
    "[Teoría y ejercicios](https://www.w3schools.com/python/python_conditions.asp)\n"
   ]
  },
  {
   "cell_type": "markdown",
   "metadata": {},
   "source": [
    "                                                                Ejercios para practicar"
   ]
  },
  {
   "cell_type": "markdown",
   "metadata": {},
   "source": [
    "Ejercicio 1:\n",
    "Imprime «Hola Mundo» si a es mayor a b. Rellena el código que falta. ¡Adelante!"
   ]
  },
  {
   "cell_type": "code",
   "execution_count": 5,
   "metadata": {},
   "outputs": [
    {
     "name": "stdout",
     "output_type": "stream",
     "text": [
      "Hello World\n"
     ]
    }
   ],
   "source": [
    "a = 50\n",
    "b = 10\n",
    "\n",
    "# Si a es mayor a b…\n",
    "\n",
    "\n",
    "print(\"Hello World\")"
   ]
  },
  {
   "cell_type": "markdown",
   "metadata": {},
   "source": [
    "Ejercicio 2:\n",
    "Escribir un programa que pregunte al usuario su edad y muestre por pantalla si es mayor de edad o no."
   ]
  },
  {
   "cell_type": "code",
   "execution_count": 7,
   "metadata": {},
   "outputs": [],
   "source": [
    "\n",
    "age = int(input(\"¿Cuál es tu edad? \"))\n",
    "\n",
    "# introduca el codigo\n"
   ]
  },
  {
   "cell_type": "markdown",
   "metadata": {},
   "source": [
    "Ejercicio 3:\n",
    "Escribir un programa que pida al usuario un número entero y muestre por pantalla si es par o impar.\n"
   ]
  },
  {
   "cell_type": "code",
   "execution_count": 9,
   "metadata": {},
   "outputs": [],
   "source": [
    "n = int(input(\"Introduce un número entero: \"))\n",
    "\n",
    "# introduca el codigo"
   ]
  },
  {
   "cell_type": "markdown",
   "metadata": {},
   "source": [
    "Ejercio 4:\n",
    "Imaginemos que en nuestra tienda hay un carné por puntos y que alguien debe pagar el precio_final_de_compra. Si tienes menos de 100 puntos realizaremos un descuento del 10%. Si es mayor a 100 y menor a 150 aplicamos un 12%. Si tienes 150 un 15% y sino, el resto de los casos de más de 150, un 20%. ¡Crea la variable puntos y juega con ella!\n"
   ]
  },
  {
   "cell_type": "code",
   "execution_count": 11,
   "metadata": {},
   "outputs": [
    {
     "name": "stdout",
     "output_type": "stream",
     "text": [
      "El precio final de compra con 120 puntos es: 100 €\n"
     ]
    }
   ],
   "source": [
    "precio_final_de_compra = 100  # Precio inicial antes de aplicar el descuento\n",
    "\n",
    "# introduca el codigo\n",
    "\n"
   ]
  },
  {
   "cell_type": "markdown",
   "metadata": {},
   "source": [
    "Ejercicio 5\n",
    "Haz una calculadora básica pida al usuario dos valores, a y b.\n",
    "\n",
    "Según la opción que desean, realizar la operación:\n",
    "\n",
    "Si operación es 1 entonces debemos ver el resultado de a + b\n",
    "Si operación es 2 entonces debemos ver el resultado de a * b\n",
    "Si operación es 3 entonces debemos ver el resultado de a - b\n",
    "Si operación es 4 entonces debemos ver el resultado de a / b"
   ]
  },
  {
   "cell_type": "code",
   "execution_count": 13,
   "metadata": {},
   "outputs": [],
   "source": [
    "# Pedir al usuario que ingrese dos valores, a y b\n",
    "a = float(input(\"Ingresa el valor de a: \"))\n",
    "b = float(input(\"Ingresa el valor de b: \"))\n",
    "\n",
    "# Pedir al usuario que ingrese la operación deseada\n",
    "operacion = int(input(\"Selecciona la operación a realizar (1: suma, 2: multiplicación, 3: resta, 4: división): \"))\n",
    "\n",
    "# Realizar la operación seleccionada\n"
   ]
  },
  {
   "cell_type": "markdown",
   "metadata": {},
   "source": [
    "▶   [seinoiculoS :](../Soluciones/soluciones_cond&bucle.py)"
   ]
  }
 ],
 "metadata": {
  "kernelspec": {
   "display_name": "Python 3",
   "language": "python",
   "name": "python3"
  },
  "language_info": {
   "codemirror_mode": {
    "name": "ipython",
    "version": 3
   },
   "file_extension": ".py",
   "mimetype": "text/x-python",
   "name": "python",
   "nbconvert_exporter": "python",
   "pygments_lexer": "ipython3",
   "version": "3.12.2"
  }
 },
 "nbformat": 4,
 "nbformat_minor": 2
}
