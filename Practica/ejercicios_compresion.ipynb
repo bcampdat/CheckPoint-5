{
 "cells": [
  {
   "cell_type": "markdown",
   "metadata": {},
   "source": [
    "## List comprehension"
   ]
  },
  {
   "cell_type": "markdown",
   "metadata": {},
   "source": [
    "[Teoría y ejercicios](https://www.w3schools.com/python/python_lists_comprehension.asp)\n"
   ]
  },
  {
   "cell_type": "markdown",
   "metadata": {},
   "source": [
    "                                                                Ejercios para practicar"
   ]
  },
  {
   "cell_type": "markdown",
   "metadata": {},
   "source": [
    "Ejercicio 1:\n",
    "Pon en mayusculas la primera palabra de la lista\n",
    "\n",
    "palabras = ['casa', 'perro', 'puerta', 'pizza']"
   ]
  },
  {
   "cell_type": "code",
   "execution_count": 3,
   "metadata": {},
   "outputs": [],
   "source": [
    "# insterta tu codigo\n"
   ]
  },
  {
   "cell_type": "markdown",
   "metadata": {},
   "source": [
    "Ejercicio 2:\n",
    "Se tiene una lista [ ] con un conjunto de ( *tuplas* )  con los nombres y edades de personas:\n",
    "\n",
    "Generar una lista con las personas mayores de edad.\n",
    "```\n",
    "personas = [ ('pedro',33), ('ana',3), ('juan',13), ('carla',45) ]\n",
    "```"
   ]
  },
  {
   "cell_type": "code",
   "execution_count": 8,
   "metadata": {},
   "outputs": [],
   "source": [
    "# listas = []\n",
    "# tuplas = ()\n",
    "\n",
    "\n",
    "# insterta tu codigo"
   ]
  },
  {
   "cell_type": "markdown",
   "metadata": {},
   "source": [
    "Ejercicio 3:\n",
    "Generar una lista con todos los valores múltiplos de 8 comprendidos entre 1 y 500."
   ]
  },
  {
   "cell_type": "code",
   "execution_count": 6,
   "metadata": {},
   "outputs": [],
   "source": [
    "   \n",
    "# insterta tu codigo \n"
   ]
  },
  {
   "cell_type": "markdown",
   "metadata": {},
   "source": [
    "Ejercio 4:\n",
    "\n",
    "Dada una lista de números, crea una nueva lista que contenga todos los números primos en la lista original.\n",
    "\n",
    "numeros = [2, 3, 4, 5, 6, 7, 8, 9, 10, 11 ] \n"
   ]
  },
  {
   "cell_type": "code",
   "execution_count": 9,
   "metadata": {},
   "outputs": [],
   "source": [
    "\n",
    "# insterta tu codigo\n"
   ]
  },
  {
   "cell_type": "markdown",
   "metadata": {},
   "source": [
    "Ejercicio 5:\n",
    "Dada una lista de marca de coches mediante lista de comprension.\n",
    "\n",
    "Obten otra lista con 1 de cada 3 marcas\n",
    "\n",
    "marcas_coches = [\"Toyota\", \"Honda\", \"Ford\", \"Chevrolet\", \"BMW\", \"Mercedes-Benz\", \"Audi\", \"Volkswagen\", \"Nissan\", \"Tesla\", \"Hyundai\", \"Kia\", \"Subaru\", \"Porsche\", \"Ferrari\"]\n"
   ]
  },
  {
   "cell_type": "code",
   "execution_count": 10,
   "metadata": {},
   "outputs": [],
   "source": [
    "marcas_coches = [\n",
    "    \"Toyota\", \"Honda\", \"Ford\", \"Chevrolet\", \"BMW\", \"Mercedes-Benz\",\n",
    "    \"Audi\", \"Volkswagen\", \"Nissan\", \"Tesla\", \"Hyundai\", \"Kia\",\n",
    "    \"Subaru\", \"Porsche\", \"Ferrari\"\n",
    "]\n",
    "\n",
    "# insterta tu codigo\n"
   ]
  },
  {
   "cell_type": "markdown",
   "metadata": {},
   "source": [
    "▶   [seinoiculoS :](../Soluciones/soluciones_comprension.py)"
   ]
  }
 ],
 "metadata": {
  "kernelspec": {
   "display_name": "Python 3",
   "language": "python",
   "name": "python3"
  },
  "language_info": {
   "codemirror_mode": {
    "name": "ipython",
    "version": 3
   },
   "file_extension": ".py",
   "mimetype": "text/x-python",
   "name": "python",
   "nbconvert_exporter": "python",
   "pygments_lexer": "ipython3",
   "version": "3.12.2"
  }
 },
 "nbformat": 4,
 "nbformat_minor": 2
}
